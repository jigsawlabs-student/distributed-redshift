{
 "cells": [
  {
   "cell_type": "markdown",
   "id": "copyrighted-lawrence",
   "metadata": {},
   "source": [
    "# Distributed Redshift "
   ]
  },
  {
   "cell_type": "markdown",
   "id": "strong-supplement",
   "metadata": {},
   "source": [
    "### Introduction"
   ]
  },
  {
   "cell_type": "markdown",
   "id": "requested-stand",
   "metadata": {},
   "source": [
    "As we know, redshift is specifically designed to handle large amounts amount of data.  But how does it accomplish this? In this lesson, we'll learn about the distributed nature of redshift, and how both the storage and query of data is distributed in redshift."
   ]
  },
  {
   "cell_type": "markdown",
   "id": "planned-champion",
   "metadata": {},
   "source": [
    "### Distributed Storage"
   ]
  },
  {
   "cell_type": "markdown",
   "id": "average-legislation",
   "metadata": {},
   "source": [
    "Redshift is designed to store and query millions of rows of data.  To accomplish this, a single table may be partitioned across multiple nodes -- that is, multiple computers.  And even on the same node, a table may be partitioned across multiple slices."
   ]
  },
  {
   "cell_type": "markdown",
   "id": "authorized-partner",
   "metadata": {},
   "source": [
    "<img src=\"./partitioned-data.png\" width=\"100%\">"
   ]
  },
  {
   "cell_type": "markdown",
   "id": "adapted-pregnancy",
   "metadata": {},
   "source": [
    "This is what we see above.  Redshift has partitioned our `movies` table across four different slices, and two different compute nodes.  Within each slice, there is a data block for each column.  \n",
    "\n",
    "> So five columns on each of four slices means a total of 20 data blocks, for 20 megabytes of storage.  "
   ]
  },
  {
   "cell_type": "markdown",
   "id": "residential-faith",
   "metadata": {},
   "source": [
    "We went few a number of terms.  Let's review.\n",
    "\n",
    "* **Compute node**: A compute node just means a separate computer where the data is stored.  \n",
    "\n",
    "* **Slice** A slice operates as a *virtual compute node* operating with it's own dedicated disk space and CPU resources.  There are multiple slices on any given compute node.  And a single slice can only be used for data from one table."
   ]
  },
  {
   "cell_type": "markdown",
   "id": "inner-poland",
   "metadata": {},
   "source": [
    "### Parallel Queries"
   ]
  },
  {
   "cell_type": "markdown",
   "id": "young-camping",
   "metadata": {},
   "source": [
    "So with redshift we may partition data from a single table across multiple slices, and even multiple nodes. One of the benefits of partitioning our data across multiple slices, is that redshift can perform a single query in parallel on each slice.  For example, let's say we perform the following query: "
   ]
  },
  {
   "cell_type": "markdown",
   "id": "greater-ladder",
   "metadata": {},
   "source": [
    "> `SELECT AVG(Year) FROM movies;`"
   ]
  },
  {
   "cell_type": "markdown",
   "id": "ahead-gathering",
   "metadata": {},
   "source": [
    "Redshift will perform this query on each slice of the data and then aggregate the results.  Here's how this occurs.  "
   ]
  },
  {
   "cell_type": "markdown",
   "id": "forty-thumbnail",
   "metadata": {},
   "source": [
    "<img src=\"./distributed-select.png\" width=\"100%\">"
   ]
  },
  {
   "cell_type": "markdown",
   "id": "weighted-junction",
   "metadata": {},
   "source": [
    "In addition to the compute nodes, Redshift has a leader node.  The leader node receives the query from the client, and then devises a plan to execute it across redshift's compute nodes.  \n",
    "\n",
    "In this case, it will ask each slice to calculate the average movie year on it's own partition of the data."
   ]
  },
  {
   "cell_type": "markdown",
   "id": "afraid-arrest",
   "metadata": {},
   "source": [
    "The leader then receives each slice's calculation and performs the final computation -- that is, it uses the results to calculate the average year across the dataset.   "
   ]
  },
  {
   "cell_type": "markdown",
   "id": "catholic-automation",
   "metadata": {},
   "source": [
    "### Reviewing the Architecture"
   ]
  },
  {
   "cell_type": "markdown",
   "id": "injured-woman",
   "metadata": {},
   "source": [
    "So let's summarize what we learned about redshift's architecture.  Redshift consists of a single leader node and one or more compute nodes.\n",
    "\n",
    "* **Leader node**\n",
    "\n",
    "The leader node receives queries from external clients.  The leader node then determines the plan of attack for the compute nodes to execute the query.\n",
    "\n",
    "* **Compute nodes**\n",
    "\n",
    "The compute nodes are computers that consists of multiple slices.  Each slice is a *virtual compute node* with dedicated hard drive, memory and CPU resources.  Each slice queries it's own data, and operations can be performed across slices in parallel.\n",
    "\n",
    "When the slices are done performing a query on their portion of the data, they send the results back to the leader node.  The leader node, may then perform some final computations -- like a final aggregation, or performing a sort or a limit of the data -- and then sends the results back to the user."
   ]
  },
  {
   "cell_type": "markdown",
   "id": "expressed-debate",
   "metadata": {},
   "source": [
    "### Resources\n",
    "\n",
    "[Redshift Deep Dive](https://www.youtube.com/watch?t=578&v=iuQgZDs-W7A&feature=youtu.be&ab_channel=AWSOnlineTechTalks)"
   ]
  }
 ],
 "metadata": {
  "kernelspec": {
   "display_name": "Python 3",
   "language": "python",
   "name": "python3"
  },
  "language_info": {
   "codemirror_mode": {
    "name": "ipython",
    "version": 3
   },
   "file_extension": ".py",
   "mimetype": "text/x-python",
   "name": "python",
   "nbconvert_exporter": "python",
   "pygments_lexer": "ipython3",
   "version": "3.8.6"
  }
 },
 "nbformat": 4,
 "nbformat_minor": 5
}
